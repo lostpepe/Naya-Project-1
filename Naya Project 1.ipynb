{
 "cells": [
  {
   "cell_type": "code",
   "execution_count": 157,
   "metadata": {},
   "outputs": [],
   "source": [
    "import heapq\n",
    "import datetime\n",
    "import collections\n",
    "import itertools\n"
   ]
  },
  {
   "cell_type": "markdown",
   "metadata": {},
   "source": [
    "# Part I - The Node Class"
   ]
  },
  {
   "cell_type": "markdown",
   "metadata": {},
   "source": [
    "## Task 1"
   ]
  },
  {
   "cell_type": "code",
   "execution_count": 158,
   "metadata": {},
   "outputs": [],
   "source": [
    "class Node:\n",
    "    \n",
    "    def __init__(self,name):\n",
    "        self.__name = name\n",
    "        self.__neighbors = {}\n",
    "    \n",
    "    def __str__(self):\n",
    "        msg = \"Node: {}\\nEdges: {}\\n\".format(self.__name,len(self))\n",
    "        msg += ''.join(\"  Edge: ({},{}) Weight: {}\\n\".format(self.__name,n,w) for (n,w) in self.__neighbors.items())\n",
    "        return msg\n",
    "    \n",
    "    def __len__(self):\n",
    "        return len(self.__neighbors)\n",
    "    \n",
    "    def __contains__(self,item):\n",
    "        if isinstance(item, Node):\n",
    "            item = item.__name\n",
    "        return item in self.__neighbors\n",
    "    \n",
    "    def __getitem__(self, key):\n",
    "        if isinstance(key, Node):\n",
    "            key = key.__name\n",
    "        return self.__neighbors.get(key, None)\n",
    "    \n",
    "    def __setitem__(self, key, item):\n",
    "        if isinstance(key,Node):\n",
    "            key = key.__name\n",
    "        if self.__name != key:\n",
    "            self.__neighbors[key] = max(self.__neighbors.get(key,item),item)\n",
    "    \n",
    "    def __eq__(self, other):\n",
    "        return self.__name == other.__name\n",
    "    \n",
    "    def __ne__(self, other):\n",
    "        return self.__name != other.__name\n",
    "    \n",
    "    def __iter__(self):\n",
    "        return (peer for peer in self.__neighbors)\n",
    "     \n",
    "    def is_neighbor(self, name):\n",
    "        return name in self\n",
    "    \n",
    "    def update(self, name, weight):\n",
    "        self[name] = weight\n",
    "        \n",
    "    def update(self, other):\n",
    "        if self == other:\n",
    "            for neighbor, weight in other.__neighbors.items():\n",
    "                self[neighbor] = weight\n",
    "            \n",
    "    def remove_neighbor(self, key):\n",
    "        if key in self:\n",
    "            if isinstance(key, Node):\n",
    "                key = key.__name\n",
    "            del self.__neighbors[key]\n",
    "    \n",
    "    def is_isolated(self):\n",
    "        return not self.__neighbors\n",
    "    \n",
    "    def name(self):\n",
    "        return self.__name\n",
    "    \n",
    "    def edges(self):\n",
    "        return self.__neighbors.items()\n",
    "    \n",
    "\n"
   ]
  },
  {
   "cell_type": "markdown",
   "metadata": {},
   "source": [
    "## Task 2 - Exemplary Usage"
   ]
  },
  {
   "cell_type": "markdown",
   "metadata": {},
   "source": [
    "### Question 1"
   ]
  },
  {
   "cell_type": "code",
   "execution_count": 159,
   "metadata": {},
   "outputs": [
    {
     "name": "stdout",
     "output_type": "stream",
     "text": [
      "Node: 1\n",
      "Edges: 5\n",
      "  Edge: (1,2) Weight: 10\n",
      "  Edge: (1,4) Weight: 20\n",
      "  Edge: (1,5) Weight: 20\n",
      "  Edge: (1,6) Weight: 5\n",
      "  Edge: (1,7) Weight: 15\n",
      "\n",
      "Node: 2\n",
      "Edges: 2\n",
      "  Edge: (2,3) Weight: 5\n",
      "  Edge: (2,4) Weight: 10\n",
      "\n",
      "Node: 3\n",
      "Edges: 2\n",
      "  Edge: (3,2) Weight: 15\n",
      "  Edge: (3,4) Weight: 5\n",
      "\n",
      "Node: 4\n",
      "Edges: 1\n",
      "  Edge: (4,5) Weight: 10\n",
      "\n",
      "Node: 5\n",
      "Edges: 1\n",
      "  Edge: (5,6) Weight: 5\n",
      "\n",
      "Node: 6\n",
      "Edges: 0\n",
      "\n",
      "Node: 7\n",
      "Edges: 1\n",
      "  Edge: (7,6) Weight: 10\n",
      "\n",
      "Node: 8\n",
      "Edges: 3\n",
      "  Edge: (8,1) Weight: 5\n",
      "  Edge: (8,2) Weight: 20\n",
      "  Edge: (8,7) Weight: 5\n",
      "\n",
      "Node: 9\n",
      "Edges: 3\n",
      "  Edge: (9,2) Weight: 15\n",
      "  Edge: (9,8) Weight: 20\n",
      "  Edge: (9,10) Weight: 10\n",
      "\n",
      "Node: 10\n",
      "Edges: 2\n",
      "  Edge: (10,2) Weight: 5\n",
      "  Edge: (10,3) Weight: 15\n",
      "\n"
     ]
    }
   ],
   "source": [
    "nodes = [Node(n) for n in range(1,11)]\n",
    "edges = [[2,4,5,6,7],[3,4],[2,4],[5],[6],[],[6],[1,2,7],[2,8,10],[2,3]]\n",
    "weights = [[10,20,20,5,15],[5,10],[15,5],[10],[5],[],[10],[5,20,5],[15,20,10],[5,15]]\n",
    "for n,es,ws in zip(nodes,edges,weights):\n",
    "    for e,w in zip(es,ws):\n",
    "        n[e]=w\n",
    "    print(n)"
   ]
  },
  {
   "cell_type": "markdown",
   "metadata": {},
   "source": [
    "### Question2"
   ]
  },
  {
   "cell_type": "code",
   "execution_count": 160,
   "metadata": {},
   "outputs": [
    {
     "name": "stdout",
     "output_type": "stream",
     "text": [
      "Node: 11\n",
      "Edges: 0\n",
      "\n",
      "True\n",
      "Node: 11\n",
      "Edges: 1\n",
      "  Edge: (11,1) Weight: 5\n",
      "\n",
      "False\n",
      "Node: 11\n",
      "Edges: 1\n",
      "  Edge: (11,1) Weight: 10\n",
      "\n",
      "Node: 11\n",
      "Edges: 1\n",
      "  Edge: (11,1) Weight: 10\n",
      "\n"
     ]
    }
   ],
   "source": [
    "testprob = Node(11)\n",
    "print(testprob)\n",
    "print(testprob.is_isolated())\n",
    "testprob[1] = 5\n",
    "print(testprob)\n",
    "print(testprob.is_isolated())\n",
    "testprob[1] = 10\n",
    "print(testprob)\n",
    "testprob[1] = 3\n",
    "print(testprob)"
   ]
  },
  {
   "cell_type": "markdown",
   "metadata": {},
   "source": [
    "### Question 3"
   ]
  },
  {
   "cell_type": "code",
   "execution_count": 161,
   "metadata": {},
   "outputs": [
    {
     "name": "stdout",
     "output_type": "stream",
     "text": [
      "Total number of edges: 20\n",
      "Overal weight: 200\n"
     ]
    }
   ],
   "source": [
    "print(\"Total number of edges: {}\".format(sum(len(n) for n in nodes)))\n",
    "print(\"Overal weight: {}\".format(sum(w for (e,w) in n.edges() for n in nodes)))"
   ]
  },
  {
   "cell_type": "markdown",
   "metadata": {},
   "source": [
    "### Question 4\n",
    "The nodes are orderer in ascneding number of neighbors"
   ]
  },
  {
   "cell_type": "code",
   "execution_count": 162,
   "metadata": {},
   "outputs": [
    {
     "name": "stdout",
     "output_type": "stream",
     "text": [
      "[6, 4, 5, 7, 2, 3, 10, 8, 9, 1]\n"
     ]
    }
   ],
   "source": [
    "nodes.sort(key=len)\n",
    "print([n.name() for n in nodes])"
   ]
  },
  {
   "cell_type": "markdown",
   "metadata": {},
   "source": [
    "# Part II - The Graph Class"
   ]
  },
  {
   "cell_type": "markdown",
   "metadata": {},
   "source": [
    "## Task 1"
   ]
  },
  {
   "cell_type": "code",
   "execution_count": 163,
   "metadata": {},
   "outputs": [],
   "source": [
    "class Graph(object):\n",
    "    \n",
    "    def __init__(self, name, nodes=[]):\n",
    "        self._name = name\n",
    "        self._nodes = {}\n",
    "        self._spt = {}   #shortest path tree.\n",
    "        self._use_spt = True\n",
    "        for node in nodes:\n",
    "            self.update(node)\n",
    "    \n",
    "    def __str__(self):\n",
    "        msg=\"Graph: {}\\nNodes: {}\\n\".format(self._name, len(self))\n",
    "        msg += ''.join(\"  Name: {} Neighbors: {}\\n\".format(node,len(tuple(self.neighbors(node)))) for node in self._nodes)\n",
    "        edges = ''.join(\"  Edge: ({},{}) Weight: {}\\n\".format(frm_n,to_n,w) for frm_n in self._nodes \\\n",
    "                        for (to_n,w) in self.edges_from(frm_n))\n",
    "        msg += \"Edges: {}\\n\".format(edges.count(\"Edge: \"))\n",
    "        msg += edges\n",
    "        return msg\n",
    "    \n",
    "    def __len__(self):\n",
    "        return len(self._nodes)\n",
    "    \n",
    "    def __contains__(self,key):\n",
    "        if isinstance(key,Node):\n",
    "            key = key.name()\n",
    "        return key in self._nodes\n",
    "\n",
    "    def __getitem__(self,name):\n",
    "        return self._nodes[name]\n",
    "    \n",
    "    def __add__(self,other):\n",
    "        new_graph = Graph(self._name + \"_\" + other._name,[])\n",
    "        new_graph._nodes = self._nodes.copy()\n",
    "        for node in other._nodes.values():\n",
    "            new_graph.update(node)\n",
    "        return new_graph\n",
    "    \n",
    "    def __iter__(self):\n",
    "        return (node for node in self._nodes)\n",
    "    \n",
    "    def update(self,node):\n",
    "        if isinstance(node,Node):\n",
    "            if node in self:\n",
    "                self[node.name()].update(node)\n",
    "            else:\n",
    "                self._nodes[node.name()] = node\n",
    "            if self._spt:\n",
    "                self._spt.clear()\n",
    "        \n",
    "    def edges_from(self, frm_name):\n",
    "        return ((to_name,weight) for (to_name, weight) in self[frm_name].edges() if to_name in self._nodes)\n",
    "    \n",
    "    def neighbors(self, of_name):\n",
    "        return(node for node in self[of_name] if node in self._nodes)\n",
    "        \n",
    "    def remove_node(self, name):\n",
    "        if name in self:\n",
    "            del self._nodes[name]\n",
    "            if self._spt:\n",
    "                self._spt.clear()\n",
    "    \n",
    "    def is_edge(self, frm_name, to_name):\n",
    "        return frm_name in self and to_name in self and to_name in self[frm_name]\n",
    "    \n",
    "    def add_edge(self, frm_name, to_name, weigth):\n",
    "        frm_node = Node(frm_name)\n",
    "        to_node = Node(to_name)\n",
    "        frm_node[to_node]= weigth\n",
    "        self.update(frm_node)\n",
    "        self.update(to_node)\n",
    "    \n",
    "    def remove_edge(self,frm_name, to_name):\n",
    "        if frm_name in self and to_name in self:\n",
    "            self[frm_name].remove_neighbor(to_name)\n",
    "            if self._spt:\n",
    "                self._spt.clear()\n",
    "    \n",
    "    def get_edge_weight(self,frm_name, to_name):\n",
    "        return_value = None\n",
    "        if frm_name in self and to_name in self:\n",
    "            return_value = self[frm_name][to_name]\n",
    "        return return_value\n",
    "    \n",
    "    def get_path_weight(self, path):\n",
    "        #what should be the return value of a path of one node in the graph? (currnet 0)\n",
    "        path_weight = None\n",
    "        if path:\n",
    "            to_nodes = iter(path)\n",
    "            next(to_nodes)\n",
    "            edge_weights = [self.get_edge_weight(frm_node,to_node) for frm_node,to_node in zip(path,to_nodes)]\n",
    "            if None not in edge_weights:\n",
    "                path_weight = sum(edge_weights)\n",
    "        return path_weight\n",
    "  \n",
    "    def is_reachable(self,frm_name, to_name):\n",
    "        #what should be the return value of a noe to its self? (current True)\n",
    "        recheable = False\n",
    "        if frm_name in self and to_name in self:\n",
    "            if self._use_spt:\n",
    "                if frm_name not in self._spt:\n",
    "                    self.find_shortest_path(frm_name,to_name)\n",
    "                predecessor = self._spt[frm_name]\n",
    "                recheable = to_name in predecessor\n",
    "            else:\n",
    "                visited = set()\n",
    "                seen = {frm_name}\n",
    "                while seen and to_name not in seen:\n",
    "                    visiting = seen.pop()\n",
    "                    seen.update(node for node in self.neighbors(visiting) if node not in visited)\n",
    "                    visited.add(visiting)\n",
    "                recheable = to_name in seen\n",
    "        return recheable\n",
    "                \n",
    "    \n",
    "    def find_shortest_path(self, frm_name, to_name):\n",
    "        #Dijkstra\n",
    "        shortest_path = None\n",
    "        if frm_name in self and to_name in self:\n",
    "            #Check if the spt was alrady calculated if not calcualte\n",
    "            if frm_name not in self._spt:\n",
    "                pq = []\n",
    "                predecessor = {}\n",
    "                distance = {frm_name:0}\n",
    "                visited = set()\n",
    "                heapq.heappush(pq,(0,frm_name))\n",
    "                while pq :\n",
    "                    visiting_distance, visiting_node = heapq.heappop(pq)\n",
    "                    if visiting_node not in visited:\n",
    "                        for peer, weight in self.edges_from(visiting_node):\n",
    "                            if peer not in distance or distance[peer] > visiting_distance + weight:\n",
    "                                #Relaxation\n",
    "                                distance[peer] = visiting_distance + weight\n",
    "                                predecessor[peer] = visiting_node\n",
    "                                heapq.heappush(pq,(distance[peer],peer))\n",
    "                        visited.add(visiting_node)\n",
    "                if self._use_spt:\n",
    "                    self._spt[frm_name]=predecessor\n",
    "            \n",
    "            if self._use_spt:\n",
    "                predecessor = self._spt[frm_name]\n",
    "            if to_name in predecessor:\n",
    "                #Creating the path\n",
    "                shortest_path = [to_name]\n",
    "                next_hop = to_name\n",
    "                while next_hop != frm_name:\n",
    "                    next_hop = predecessor[next_hop]\n",
    "                    shortest_path.append(next_hop)\n",
    "                shortest_path.reverse()\n",
    "        return shortest_path\n",
    "        \n",
    "        \n",
    "     "
   ]
  },
  {
   "cell_type": "markdown",
   "metadata": {},
   "source": [
    "## Task 2 - Examplary Usage"
   ]
  },
  {
   "cell_type": "markdown",
   "metadata": {},
   "source": [
    "### Question 1"
   ]
  },
  {
   "cell_type": "code",
   "execution_count": 164,
   "metadata": {},
   "outputs": [
    {
     "name": "stdout",
     "output_type": "stream",
     "text": [
      "Graph: odd_even_ten\n",
      "Nodes: 10\n",
      "  Name: 6 Neighbors: 0\n",
      "  Name: 4 Neighbors: 1\n",
      "  Name: 2 Neighbors: 2\n",
      "  Name: 8 Neighbors: 3\n",
      "  Name: 5 Neighbors: 1\n",
      "  Name: 7 Neighbors: 1\n",
      "  Name: 3 Neighbors: 2\n",
      "  Name: 9 Neighbors: 3\n",
      "  Name: 1 Neighbors: 5\n",
      "  Name: 10 Neighbors: 2\n",
      "Edges: 20\n",
      "  Edge: (4,5) Weight: 10\n",
      "  Edge: (2,3) Weight: 5\n",
      "  Edge: (2,4) Weight: 10\n",
      "  Edge: (8,1) Weight: 5\n",
      "  Edge: (8,2) Weight: 20\n",
      "  Edge: (8,7) Weight: 5\n",
      "  Edge: (5,6) Weight: 5\n",
      "  Edge: (7,6) Weight: 10\n",
      "  Edge: (3,2) Weight: 15\n",
      "  Edge: (3,4) Weight: 5\n",
      "  Edge: (9,2) Weight: 15\n",
      "  Edge: (9,8) Weight: 20\n",
      "  Edge: (9,10) Weight: 10\n",
      "  Edge: (1,2) Weight: 10\n",
      "  Edge: (1,4) Weight: 20\n",
      "  Edge: (1,5) Weight: 20\n",
      "  Edge: (1,6) Weight: 5\n",
      "  Edge: (1,7) Weight: 15\n",
      "  Edge: (10,2) Weight: 5\n",
      "  Edge: (10,3) Weight: 15\n",
      "\n"
     ]
    }
   ],
   "source": [
    "odd_graph = Graph(\"odd\", [node for node in nodes if node.name() in range(2,10,2)])\n",
    "even_graph = Graph(\"even\",[node for node in nodes if node.name() in range(1,10,2)])\n",
    "ten_graph = Graph(\"ten\",[node for node in nodes if node.name()==10])\n",
    "sample_graph = odd_graph + even_graph + ten_graph\n",
    "print(sample_graph)"
   ]
  },
  {
   "cell_type": "markdown",
   "metadata": {},
   "source": [
    "### Question 2"
   ]
  },
  {
   "cell_type": "code",
   "execution_count": 165,
   "metadata": {},
   "outputs": [
    {
     "name": "stdout",
     "output_type": "stream",
     "text": [
      "Graph: testgraph\n",
      "Nodes: 5\n",
      "  Name: 1 Neighbors: 2\n",
      "  Name: 2 Neighbors: 1\n",
      "  Name: 3 Neighbors: 1\n",
      "  Name: 4 Neighbors: 1\n",
      "  Name: 5 Neighbors: 0\n",
      "Edges: 5\n",
      "  Edge: (1,2) Weight: 1\n",
      "  Edge: (1,3) Weight: 3\n",
      "  Edge: (2,4) Weight: 100\n",
      "  Edge: (3,4) Weight: 5\n",
      "  Edge: (4,5) Weight: 6\n",
      "\n",
      "True\n",
      "[1, 3, 4, 5]\n",
      "14\n",
      "Graph: testgraph\n",
      "Nodes: 5\n",
      "  Name: 1 Neighbors: 2\n",
      "  Name: 2 Neighbors: 1\n",
      "  Name: 3 Neighbors: 1\n",
      "  Name: 4 Neighbors: 0\n",
      "  Name: 5 Neighbors: 0\n",
      "Edges: 4\n",
      "  Edge: (1,2) Weight: 1\n",
      "  Edge: (1,3) Weight: 3\n",
      "  Edge: (2,4) Weight: 100\n",
      "  Edge: (3,4) Weight: 5\n",
      "\n",
      "False\n",
      "None\n",
      "None\n",
      "Graph: testgraph\n",
      "Nodes: 4\n",
      "  Name: 1 Neighbors: 2\n",
      "  Name: 2 Neighbors: 1\n",
      "  Name: 3 Neighbors: 1\n",
      "  Name: 4 Neighbors: 0\n",
      "Edges: 4\n",
      "  Edge: (1,2) Weight: 1\n",
      "  Edge: (1,3) Weight: 3\n",
      "  Edge: (2,4) Weight: 100\n",
      "  Edge: (3,4) Weight: 5\n",
      "\n",
      "False\n",
      "None\n",
      "None\n"
     ]
    }
   ],
   "source": [
    "testgraph = Graph(\"testgraph\")\n",
    "testgraph.add_edge(1,2,1)\n",
    "testgraph.add_edge(1,3,3)\n",
    "testgraph.add_edge(2,4,50)\n",
    "testgraph.add_edge(2,4,100)\n",
    "testgraph.add_edge(2,4,70)\n",
    "testgraph.add_edge(3,4,5)\n",
    "testgraph.add_edge(4,5,6)\n",
    "print(testgraph)\n",
    "print(testgraph.is_reachable(1,5))\n",
    "print(testgraph.find_shortest_path(1,5))\n",
    "print(testgraph.get_path_weight(testgraph.find_shortest_path(1,5)))\n",
    "testgraph.remove_edge(4,5)\n",
    "print(testgraph)\n",
    "print(testgraph.is_reachable(1,5))\n",
    "print(testgraph.find_shortest_path(1,5))\n",
    "print(testgraph.get_path_weight(testgraph.find_shortest_path(1,5)))\n",
    "testgraph.remove_node(5)\n",
    "print(testgraph)\n",
    "print(testgraph.is_reachable(1,5))\n",
    "print(testgraph.find_shortest_path(1,5))\n",
    "print(testgraph.get_path_weight(testgraph.find_shortest_path(1,5)))"
   ]
  },
  {
   "cell_type": "markdown",
   "metadata": {},
   "source": [
    "### Question 3"
   ]
  },
  {
   "cell_type": "code",
   "execution_count": 166,
   "metadata": {},
   "outputs": [
    {
     "name": "stdout",
     "output_type": "stream",
     "text": [
      "[6, 5, 7, 4, 2, 3, 10, 1, 8, 9]\n"
     ]
    }
   ],
   "source": [
    "nodes.sort(key=lambda u: len(tuple(v for v in sample_graph if sample_graph.is_reachable(u.name(),v))))\n",
    "print([node.name() for node in nodes])"
   ]
  },
  {
   "cell_type": "markdown",
   "metadata": {},
   "source": [
    "### Question 4"
   ]
  },
  {
   "cell_type": "code",
   "execution_count": 167,
   "metadata": {},
   "outputs": [
    {
     "name": "stdout",
     "output_type": "stream",
     "text": [
      "The pair with the maximun weigth shortest path is (9, 5)\n",
      "The path between them is [9, 2, 4, 5]\n",
      "The weight of the paht is 35\n"
     ]
    }
   ],
   "source": [
    "def max_weigth_path(graph):\n",
    "    try:\n",
    "        max_pair=max(((u,v) for u in graph for v in graph if u!=v and graph.is_reachable(u,v)), \\\n",
    "                    key= lambda e: graph.get_path_weight(graph.find_shortest_path(e[0],e[1])))\n",
    "        \n",
    "        max_pair_path = graph.find_shortest_path(max_pair[0],max_pair[1])\n",
    "        max_pair_path_weight = graph.get_path_weight(max_pair_path)\n",
    "    except:\n",
    "        max_pair,max_pair_path,max_pair_path_weight = None, None, None\n",
    "    return(max_pair,max_pair_path,max_pair_path_weight)\n",
    "    \n",
    "\n",
    "max_pair,max_pair_path,max_pair_path_weight = max_weigth_path(sample_graph)\n",
    "print(\"The pair with the maximun weigth shortest path is {}\".format(max_pair))\n",
    "print(\"The path between them is {}\".format(max_pair_path))\n",
    "print(\"The weight of the paht is {}\".format(max_pair_path_weight))"
   ]
  },
  {
   "cell_type": "markdown",
   "metadata": {},
   "source": [
    "## Task 3"
   ]
  },
  {
   "cell_type": "markdown",
   "metadata": {},
   "source": [
    "### Question 1"
   ]
  },
  {
   "cell_type": "code",
   "execution_count": 168,
   "metadata": {},
   "outputs": [
    {
     "name": "stdout",
     "output_type": "stream",
     "text": [
      "Graph: travelsEW.csv\n",
      "Nodes: 5\n",
      "  Name: Center Neighbors: 2\n",
      "  Name: West Neighbors: 0\n",
      "  Name: East Neighbors: 1\n",
      "  Name: South Neighbors: 0\n",
      "  Name: North Neighbors: 0\n",
      "Edges: 3\n",
      "  Edge: (Center,West) Weight: 5377.922848664688\n",
      "  Edge: (Center,North) Weight: 5308.025078369906\n",
      "  Edge: (East,South) Weight: 3596.98224852071\n",
      "\n",
      "Graph: travelsWE.csv\n",
      "Nodes: 5\n",
      "  Name: South Neighbors: 1\n",
      "  Name: East Neighbors: 0\n",
      "  Name: West Neighbors: 2\n",
      "  Name: North Neighbors: 1\n",
      "  Name: Center Neighbors: 2\n",
      "Edges: 6\n",
      "  Edge: (South,East) Weight: 3582.2093023255816\n",
      "  Edge: (West,North) Weight: 3565.125\n",
      "  Edge: (West,Center) Weight: 8953.012048192772\n",
      "  Edge: (North,Center) Weight: 3542.7906976744184\n",
      "  Edge: (Center,South) Weight: 10806.181818181818\n",
      "  Edge: (Center,East) Weight: 3512.795031055901\n",
      "\n",
      "Graph: travelsEW.csv_travelsWE.csv\n",
      "Nodes: 5\n",
      "  Name: Center Neighbors: 4\n",
      "  Name: West Neighbors: 2\n",
      "  Name: East Neighbors: 1\n",
      "  Name: South Neighbors: 1\n",
      "  Name: North Neighbors: 1\n",
      "Edges: 9\n",
      "  Edge: (Center,West) Weight: 5377.922848664688\n",
      "  Edge: (Center,North) Weight: 5308.025078369906\n",
      "  Edge: (Center,South) Weight: 10806.181818181818\n",
      "  Edge: (Center,East) Weight: 3512.795031055901\n",
      "  Edge: (West,North) Weight: 3565.125\n",
      "  Edge: (West,Center) Weight: 8953.012048192772\n",
      "  Edge: (East,South) Weight: 3596.98224852071\n",
      "  Edge: (South,East) Weight: 3582.2093023255816\n",
      "  Edge: (North,Center) Weight: 3542.7906976744184\n",
      "\n"
     ]
    }
   ],
   "source": [
    "locations=(\"Center\",\"North\",\"South\",\"East\",\"West\")\n",
    "\n",
    "def analyze_travels(file_name, locations, date_format):\n",
    "    total_time = collections.defaultdict(float)\n",
    "    travels_done = collections.defaultdict(float)\n",
    "    _from, _start, _to, _stop = 0,1,2,3\n",
    "    with open(file_name) as f:\n",
    "        next(f)\n",
    "        for line in f:\n",
    "            try:\n",
    "                rec = line.strip(\"\\n\").split(\",\")\n",
    "                if rec[_from] in locations and rec[_to] in locations:\n",
    "                    travel = (rec[_from],rec[_to])\n",
    "                    duration= (datetime.datetime.strptime(rec[_stop],date_format)-\\\n",
    "                                     datetime.datetime.strptime(rec[_start],date_format)).total_seconds()\n",
    "                    total_time[travel] += duration\n",
    "                    travels_done[travel] +=1\n",
    "            except:\n",
    "                continue\n",
    "                \n",
    "    graph = Graph(file_name)\n",
    "    for u,v in travels_done:\n",
    "        graph.add_edge(u,v,total_time[(u,v)]/travels_done[(u,v)])\n",
    "    return graph\n",
    "    \n",
    "\n",
    "\n",
    "travels_EW = analyze_travels(\"travelsEW.csv\",locations, \"%d/%m/%Y %Hh%Mm\")\n",
    "print(travels_EW)\n",
    "travels_WE = analyze_travels(\"travelsWE.csv\",locations,\"%I:%M:%S%p ; %b %d %y\")\n",
    "print(travels_WE)\n",
    "\n",
    "\n",
    "travels = travels_EW + travels_WE\n",
    "\n",
    "print(travels)"
   ]
  },
  {
   "cell_type": "markdown",
   "metadata": {},
   "source": [
    "### Question 2"
   ]
  },
  {
   "cell_type": "code",
   "execution_count": 169,
   "metadata": {},
   "outputs": [
    {
     "name": "stdout",
     "output_type": "stream",
     "text": [
      "The pair with the maximun weigth shortest path is ('West', 'South')\n",
      "The path between them is ['West', 'North', 'Center', 'East', 'South']\n",
      "The weight of the paht is 14217.692977251028\n"
     ]
    }
   ],
   "source": [
    "max_pair,max_pair_path,max_pair_path_weight = max_weigth_path(travels)\n",
    "print(\"The pair with the maximun weigth shortest path is {}\".format(max_pair))\n",
    "print(\"The path between them is {}\".format(max_pair_path))\n",
    "print(\"The weight of the paht is {}\".format(max_pair_path_weight))"
   ]
  },
  {
   "cell_type": "markdown",
   "metadata": {},
   "source": [
    "# Part III - Non-Directional Graph"
   ]
  },
  {
   "cell_type": "markdown",
   "metadata": {},
   "source": [
    "## Task 1"
   ]
  },
  {
   "cell_type": "code",
   "execution_count": 170,
   "metadata": {},
   "outputs": [],
   "source": [
    "class NonDirectionalGraph(Graph):\n",
    "    \n",
    "    def update(self, node):\n",
    "        super().update(node)\n",
    "        node = self[node.name()]\n",
    "        for peer in self._nodes.values():\n",
    "            if peer in node:\n",
    "                peer[node] = node[peer]\n",
    "            if node in peer:\n",
    "                node[peer] = peer[node]\n",
    "    \n",
    "    def remove_edge(self,frm_name, to_name):\n",
    "        super().remove_edge(frm_name,to_name)\n",
    "        super().remove_edge(to_name,frm_name)\n",
    "            \n",
    "    def __add__(self, other):\n",
    "        new_graph = super().__add__(other)\n",
    "        new_non_directional_graph = NonDirectionalGraph(new_graph._name,[])\n",
    "        new_non_directional_graph._nodes = new_graph._nodes\n",
    "        return new_non_directional_graph\n",
    "    \n",
    "    def __str__(self):\n",
    "        msg=\"Graph: {}\\nNodes: {}\\n\".format(self._name, len(self))\n",
    "        msg += ''.join(\"  Name: {} Neighbors: {}\\n\".format(node,len(list(self.neighbors(node)))) for node in self._nodes)\n",
    "        edges = ''.join(\"  Edge: ({},{}) Weight: {}\\n\".format(frm_n,to_n,self[frm_n][to_n]) for frm_n, to_n in \\\n",
    "                        itertools.combinations(self,2) if  to_n in self[frm_n])\n",
    "        msg += \"Non Directional Edges: {}\\n\".format(edges.count(\"Edge: \"))\n",
    "        msg += edges\n",
    "        return msg\n",
    "    "
   ]
  },
  {
   "cell_type": "markdown",
   "metadata": {},
   "source": [
    "## Task 2"
   ]
  },
  {
   "cell_type": "code",
   "execution_count": 171,
   "metadata": {},
   "outputs": [
    {
     "name": "stdout",
     "output_type": "stream",
     "text": [
      "Graph: social.txt\n",
      "Nodes: 14\n",
      "  Name: Joseph Neighbors: 6\n",
      "  Name: Simeon Neighbors: 8\n",
      "  Name: Zebulun Neighbors: 9\n",
      "  Name: Asher Neighbors: 7\n",
      "  Name: Reuben Neighbors: 4\n",
      "  Name: Judah Neighbors: 9\n",
      "  Name: Levi Neighbors: 8\n",
      "  Name: Dan Neighbors: 10\n",
      "  Name: Manasseh Neighbors: 9\n",
      "  Name: Issachar Neighbors: 6\n",
      "  Name: Naphtali Neighbors: 8\n",
      "  Name: Ephraim Neighbors: 6\n",
      "  Name: Gad Neighbors: 6\n",
      "  Name: Benjamin Neighbors: 4\n",
      "Non Directional Edges: 50\n",
      "  Edge: (Joseph,Simeon) Weight: 1\n",
      "  Edge: (Joseph,Zebulun) Weight: 1\n",
      "  Edge: (Joseph,Dan) Weight: 1\n",
      "  Edge: (Joseph,Manasseh) Weight: 1\n",
      "  Edge: (Joseph,Gad) Weight: 1\n",
      "  Edge: (Joseph,Benjamin) Weight: 1\n",
      "  Edge: (Simeon,Zebulun) Weight: 1\n",
      "  Edge: (Simeon,Judah) Weight: 1\n",
      "  Edge: (Simeon,Dan) Weight: 1\n",
      "  Edge: (Simeon,Manasseh) Weight: 1\n",
      "  Edge: (Simeon,Naphtali) Weight: 1\n",
      "  Edge: (Simeon,Ephraim) Weight: 1\n",
      "  Edge: (Simeon,Benjamin) Weight: 1\n",
      "  Edge: (Zebulun,Asher) Weight: 1\n",
      "  Edge: (Zebulun,Judah) Weight: 1\n",
      "  Edge: (Zebulun,Levi) Weight: 1\n",
      "  Edge: (Zebulun,Dan) Weight: 1\n",
      "  Edge: (Zebulun,Manasseh) Weight: 1\n",
      "  Edge: (Zebulun,Issachar) Weight: 1\n",
      "  Edge: (Zebulun,Ephraim) Weight: 1\n",
      "  Edge: (Asher,Reuben) Weight: 1\n",
      "  Edge: (Asher,Judah) Weight: 1\n",
      "  Edge: (Asher,Levi) Weight: 1\n",
      "  Edge: (Asher,Dan) Weight: 1\n",
      "  Edge: (Asher,Issachar) Weight: 1\n",
      "  Edge: (Asher,Ephraim) Weight: 1\n",
      "  Edge: (Reuben,Levi) Weight: 1\n",
      "  Edge: (Reuben,Manasseh) Weight: 1\n",
      "  Edge: (Reuben,Gad) Weight: 1\n",
      "  Edge: (Judah,Levi) Weight: 1\n",
      "  Edge: (Judah,Dan) Weight: 1\n",
      "  Edge: (Judah,Manasseh) Weight: 1\n",
      "  Edge: (Judah,Issachar) Weight: 1\n",
      "  Edge: (Judah,Naphtali) Weight: 1\n",
      "  Edge: (Judah,Gad) Weight: 1\n",
      "  Edge: (Levi,Dan) Weight: 1\n",
      "  Edge: (Levi,Issachar) Weight: 1\n",
      "  Edge: (Levi,Naphtali) Weight: 1\n",
      "  Edge: (Levi,Gad) Weight: 1\n",
      "  Edge: (Dan,Manasseh) Weight: 1\n",
      "  Edge: (Dan,Naphtali) Weight: 1\n",
      "  Edge: (Dan,Ephraim) Weight: 1\n",
      "  Edge: (Dan,Benjamin) Weight: 1\n",
      "  Edge: (Manasseh,Issachar) Weight: 1\n",
      "  Edge: (Manasseh,Naphtali) Weight: 1\n",
      "  Edge: (Manasseh,Benjamin) Weight: 1\n",
      "  Edge: (Issachar,Naphtali) Weight: 1\n",
      "  Edge: (Naphtali,Ephraim) Weight: 1\n",
      "  Edge: (Naphtali,Gad) Weight: 1\n",
      "  Edge: (Ephraim,Gad) Weight: 1\n",
      "\n"
     ]
    }
   ],
   "source": [
    "\n",
    "def analyze_social(file_name):\n",
    "    friendships = set()\n",
    "    _friendA, _friendB, _action = 0,2,3\n",
    "    with open(file_name) as f:\n",
    "        for line in f:\n",
    "            rec = line.strip(\"\\n\").split(\" \")\n",
    "            try:\n",
    "                friends = frozenset([rec[_friendA],rec[_friendB]])\n",
    "                if rec[_action]==\"became\":\n",
    "                    friendships.add(friends)\n",
    "                if rec[_action]==\"cancelled\":\n",
    "                    friendships.discard(friends)\n",
    "            except:\n",
    "                continue\n",
    "    graph = NonDirectionalGraph(file_name)\n",
    "    for u,v in friendships:\n",
    "        graph.add_edge(u,v,1)\n",
    "    return graph\n",
    "\n",
    "social = analyze_social(\"social.txt\")\n",
    "print(social)\n"
   ]
  },
  {
   "cell_type": "markdown",
   "metadata": {},
   "source": [
    "### Question 1\n",
    "The naive and inefficient solution (O(2^14))"
   ]
  },
  {
   "cell_type": "code",
   "execution_count": 172,
   "metadata": {
    "scrolled": false
   },
   "outputs": [
    {
     "name": "stdout",
     "output_type": "stream",
     "text": [
      "The highest number of simultaneous friendships:  5\n"
     ]
    }
   ],
   "source": [
    "def is_clique(graph,group):\n",
    "    group = set(group)\n",
    "    return all(node in graph for node in group) and \\\n",
    "            all(set(graph.neighbors(node)) & group == group -{node} for node in group)\n",
    "\n",
    "all_cliques =list(group for group in \\\n",
    "              itertools.chain.from_iterable(itertools.combinations(social,k) for k in range(len(social)+1))\\\n",
    "              if is_clique(social, group))\n",
    "\n",
    "\n",
    "print(\"The highest number of simultaneous friendships: \", len(max(all_cliques,key=len)))\n"
   ]
  },
  {
   "cell_type": "markdown",
   "metadata": {},
   "source": [
    "The more efficient solution using the Bron-Kerbosh algorithm with the enhanced pivot proposed by Tomita and the vertex selection \n",
    "proposed by Eppstein using the degeneracy order (O(d*n*3^(d/3))). In our case the degeneracy of the social graph is 5\n",
    "We implemented two options of the degeneracy order. One the neive version with 0(n^2) and the Eppstein algorithm proposed in his paper."
   ]
  },
  {
   "cell_type": "code",
   "execution_count": 173,
   "metadata": {},
   "outputs": [
    {
     "name": "stdout",
     "output_type": "stream",
     "text": [
      "The highest number of simultaneous friendships:  5\n"
     ]
    }
   ],
   "source": [
    "def naive_degeneracy_order(graph):\n",
    "    nodes = set(graph)\n",
    "    degeneracy = []\n",
    "    neighbors = {node:set(graph.neighbors(node)) for node in nodes}\n",
    "    while nodes:\n",
    "        candidate = min(nodes,key=lambda node: len(neighbors[node]&nodes))\n",
    "        degeneracy.append(candidate)\n",
    "        nodes.discard(candidate)\n",
    "    return degeneracy\n",
    "\n",
    "def eppstein_degeneracy_ordering(graph):\n",
    "    nodes = set(graph)\n",
    "    degree = collections.defaultdict(list)\n",
    "    neighbors = {node:set(graph.neighbors(node)) for node in nodes}\n",
    "    degeneracy = []\n",
    "    for node in nodes:\n",
    "        degree[len(neighbors[node])].append(node)\n",
    "    while nodes:\n",
    "        d = 0\n",
    "        while not degree[d] and d < len(nodes):\n",
    "            d += 1\n",
    "        candidate = degree[d].pop(0)\n",
    "        degeneracy.append(candidate)\n",
    "        nodes.discard(candidate)\n",
    "        for peer in neighbors[candidate]&nodes:\n",
    "            new_degree = len(neighbors[peer]&nodes)\n",
    "            degree[new_degree].append(peer)\n",
    "            degree[new_degree+1].remove(peer)\n",
    "    return degeneracy\n",
    "\n",
    "\n",
    "def bron_kerbosh_tomita_pivot(R,P,X,graph,cliques):\n",
    "    if not (P|X):\n",
    "        cliques.append(R)\n",
    "    else:\n",
    "        pivot = max(P|X,key=lambda node: len(set(graph.neighbors(node))&P))\n",
    "        for node in P-set(graph.neighbors(pivot)):\n",
    "            node_neighbors = set(graph.neighbors(node))\n",
    "            bron_kerbosh_tomita_pivot(R|{node},P&node_neighbors,X&node_neighbors,graph,cliques)\n",
    "            P.discard(node)\n",
    "            X.add(node)\n",
    "            \n",
    "def max_cliques_bkte(graph):  #bkte Bron,Kerbosh,Tomita and Eppstein\n",
    "    P = set(graph)\n",
    "    X = set()\n",
    "    R = set()\n",
    "    cliques = []\n",
    "    for node in eppstein_degeneracy_ordering(graph):\n",
    "        node_neighbors = set(graph.neighbors(node))\n",
    "        bron_kerbosh_tomita_pivot(R|{node},P&node_neighbors,X&node_neighbors,graph,cliques)\n",
    "        P.discard(node)\n",
    "        X.add(node)\n",
    "    cliques.sort(key=len)\n",
    "    return cliques\n",
    "            \n",
    "\n",
    "max_social_cliques = max_cliques_bkte(social)\n",
    "\n",
    "print(\"The highest number of simultaneous friendships: \", (len(max_social_cliques[-1])))"
   ]
  },
  {
   "cell_type": "markdown",
   "metadata": {},
   "source": [
    "### Question 2"
   ]
  },
  {
   "cell_type": "code",
   "execution_count": 174,
   "metadata": {},
   "outputs": [
    {
     "name": "stdout",
     "output_type": "stream",
     "text": [
      "The maximum number of friends Reuben had simultaneously:  3\n"
     ]
    }
   ],
   "source": [
    "print(\"The maximum number of friends Reuben had simultaneously: \",\\\n",
    "          len(max((clique for clique in max_social_cliques if \"Reuben\" in clique),key=len)))"
   ]
  },
  {
   "cell_type": "markdown",
   "metadata": {},
   "source": [
    "### Question 3"
   ]
  },
  {
   "cell_type": "code",
   "execution_count": 175,
   "metadata": {},
   "outputs": [
    {
     "name": "stdout",
     "output_type": "stream",
     "text": [
      "The maximal path between nodes: 2\n",
      "Therefore the max degree of separation is: 1\n"
     ]
    }
   ],
   "source": [
    "_,_,max_pair_path_weight = max_weigth_path(social)\n",
    "print(\"The maximal path between nodes: {}\".format(max_pair_path_weight))\n",
    "print(\"Therefore the max degree of separation is: {}\".format(max_pair_path_weight-1))"
   ]
  },
  {
   "cell_type": "markdown",
   "metadata": {},
   "source": [
    "### Question 4"
   ]
  },
  {
   "cell_type": "code",
   "execution_count": 176,
   "metadata": {},
   "outputs": [
    {
     "data": {
      "text/plain": [
       "'Judah'"
      ]
     },
     "execution_count": 176,
     "metadata": {},
     "output_type": "execute_result"
    }
   ],
   "source": [
    "def suggest_friend(graph, u):\n",
    "    target_neighbors = set(graph.neighbors(u))\n",
    "    return max((v for v in graph if v != u and v not in target_neighbors),\\\n",
    "               key= lambda n : len(set(graph.neighbors(n)) & target_neighbors))\n",
    "\n",
    "suggest_friend(social,\"Ephraim\")"
   ]
  },
  {
   "cell_type": "code",
   "execution_count": null,
   "metadata": {},
   "outputs": [],
   "source": []
  }
 ],
 "metadata": {
  "kernelspec": {
   "display_name": "Python 3",
   "language": "python",
   "name": "python3"
  },
  "language_info": {
   "codemirror_mode": {
    "name": "ipython",
    "version": 3
   },
   "file_extension": ".py",
   "mimetype": "text/x-python",
   "name": "python",
   "nbconvert_exporter": "python",
   "pygments_lexer": "ipython3",
   "version": "3.6.5"
  }
 },
 "nbformat": 4,
 "nbformat_minor": 2
}
